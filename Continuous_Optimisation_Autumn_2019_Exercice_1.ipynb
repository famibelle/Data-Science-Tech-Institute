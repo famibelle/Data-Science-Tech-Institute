{
  "nbformat": 4,
  "nbformat_minor": 0,
  "metadata": {
    "colab": {
      "name": "Continuous Optimisation Autumn 2019 Exercice 1.ipynb",
      "provenance": [],
      "collapsed_sections": [],
      "include_colab_link": true
    },
    "kernelspec": {
      "name": "python3",
      "display_name": "Python 3"
    },
    "language_info": {
      "name": "python"
    }
  },
  "cells": [
    {
      "cell_type": "markdown",
      "metadata": {
        "id": "view-in-github",
        "colab_type": "text"
      },
      "source": [
        "<a href=\"https://colab.research.google.com/github/famibelle/Data-Science-Tech-Institute/blob/main/Continuous_Optimisation_Autumn_2019_Exercice_1.ipynb\" target=\"_parent\"><img src=\"https://colab.research.google.com/assets/colab-badge.svg\" alt=\"Open In Colab\"/></a>"
      ]
    },
    {
      "cell_type": "markdown",
      "source": [
        "#**Continuous Optimisation Exam Autumn 2019**\n",
        "#*Exercise* 1."
      ],
      "metadata": {
        "id": "jkVT6M0w_MGA"
      }
    },
    {
      "cell_type": "code",
      "execution_count": null,
      "metadata": {
        "id": "gdFY0r9aQzpr"
      },
      "outputs": [],
      "source": [
        "from sympy import *\n",
        "from sympy.calculus.util import is_convex\n",
        "from sympy.abc import x, y, z\n",
        "\n",
        "init_printing()"
      ]
    },
    {
      "cell_type": "markdown",
      "source": [
        "# Minimization under inequality constraints"
      ],
      "metadata": {
        "id": "SPaumSg53abR"
      }
    },
    {
      "cell_type": "markdown",
      "source": [
        "We are dealing with the following problem on $\\mathbb{R}^3$ :\n",
        "\n",
        "\\begin{align}\n",
        "min f(x, y,z) = x^2+2y^2+3z^2-4x-4y\n",
        "\\end{align}\n",
        "\n",
        "\\begin{align}\n",
        " g(x,y,z) = x+y+z-3\n",
        "\\end{align}"
      ],
      "metadata": {
        "id": "nd-kMEMO_G0Z"
      }
    },
    {
      "cell_type": "code",
      "source": [
        "#f = x**2 + y**2 + x*y + x\n",
        "#g = x + y - 1\n",
        "\n",
        "f = x**2+2*y**2+3*z**2-4*x-4*y\n",
        "g = x+y+z-3\n",
        "\n",
        "X = f.free_symbols"
      ],
      "metadata": {
        "id": "yR9wCDAqRN5I"
      },
      "execution_count": null,
      "outputs": []
    },
    {
      "cell_type": "code",
      "source": [
        "f"
      ],
      "metadata": {
        "colab": {
          "base_uri": "https://localhost:8080/",
          "height": 37
        },
        "id": "lRoFUbsYRy54",
        "outputId": "0c28a9bf-9eb5-4a45-ef8c-2526b7c135d3"
      },
      "execution_count": null,
      "outputs": [
        {
          "output_type": "execute_result",
          "data": {
            "image/png": "[encoded data removed]",
            "text/latex": "$\\displaystyle x^{2} - 4 x + 2 y^{2} - 4 y + 3 z^{2}$",
            "text/plain": [
              " 2            2            2\n",
              "x  - 4⋅x + 2⋅y  - 4⋅y + 3⋅z "
            ]
          },
          "metadata": {},
          "execution_count": 3
        }
      ]
    },
    {
      "cell_type": "code",
      "source": [
        "g"
      ],
      "metadata": {
        "colab": {
          "base_uri": "https://localhost:8080/",
          "height": 37
        },
        "id": "zSRC5rh4RzzR",
        "outputId": "a3a049f3-f107-4a1e-aa6c-fb86b4a10c8e"
      },
      "execution_count": null,
      "outputs": [
        {
          "output_type": "execute_result",
          "data": {
            "image/png": "[encoded data removed]",
            "text/latex": "$\\displaystyle x + y + z - 3$",
            "text/plain": [
              "x + y + z - 3"
            ]
          },
          "metadata": {},
          "execution_count": 4
        }
      ]
    },
    {
      "cell_type": "code",
      "source": [
        "if len(X) == 2:\n",
        "  plotting.plot3d(f, (x, -10, 10), (y, -10, 10),size=(10,7));"
      ],
      "metadata": {
        "id": "VrN0u-uaR_0E"
      },
      "execution_count": null,
      "outputs": []
    },
    {
      "cell_type": "markdown",
      "source": [
        "## 1. Is the set $K = {(x, y, z)/x + y + z ≤ 3}$ closed in $\\mathbb{R}^3$ ? open ? convex ? (explain in two words for each question), how would you call this set ?"
      ],
      "metadata": {
        "id": "RgaBnOSm3rVf"
      }
    },
    {
      "cell_type": "markdown",
      "source": [
        "If we have a subset $K$ such that $K=\\{\\forall$ $X \\in \\mathbb{R}^n | g(X)\\}\\leq 0$ \n",
        "\n",
        "$K$ is **closed** for any continuous $g$"
      ],
      "metadata": {
        "id": "Igd8TbTrq_Fj"
      }
    },
    {
      "cell_type": "markdown",
      "source": [
        "$K = {(x, y, z)/x + y + z ≤ 3}$\n",
        "\n",
        "the boundary of $K$ is $x + y + z ≤ 3$\n",
        "\n",
        "For any point of $K$ there should exist a ball $\\mathcal B(X,ϵ)$ included in $K$\n",
        "\n",
        "$\\forall X\\in K,\\quad \\exists \\epsilon$ such that $\\mathcal B(X,ϵ) \\subset K$\n",
        "\n",
        "**intuition**: the $\\color{blue}{points}$ at the border does not satisfy the **opennes** condition\n",
        "\n",
        "=>$K$ is not **open** (large inequality)\n",
        "\n",
        "![open-and-closed-subset-300dpi.png](data:image/png;base64,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)"
      ],
      "metadata": {
        "id": "Kio7FRkcHFGn"
      }
    },
    {
      "cell_type": "markdown",
      "source": [
        "Convexity definition: \n",
        "\n",
        "$\\forall X_1,X_2 \\in K \\quad \\forall θ \\in [0\\,;1] \\qquad θ\\,X_1 + (1-\\theta)\\,X_2 \\in K$\n",
        "\n",
        "\n",
        "![220px-Convex_polygon_illustration2.svg.png](data:image/png;base64,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)"
      ],
      "metadata": {
        "id": "YfCXf1xfQWto"
      }
    },
    {
      "cell_type": "markdown",
      "source": [
        "## 2. Is the function $f(x, y, z)$ convex ? strictly convex ? α-convex ? (if yes give the value of $\\alpha$)"
      ],
      "metadata": {
        "id": "w8hhuI9v34Ub"
      }
    },
    {
      "cell_type": "code",
      "source": [
        "for index in X:\n",
        "  if is_convex(f,index):\n",
        "    print(\"the function if convex for the variable\", index)"
      ],
      "metadata": {
        "colab": {
          "base_uri": "https://localhost:8080/"
        },
        "id": "BbJd-v5xF1X5",
        "outputId": "8172ab6c-8d1e-4825-ed13-84d06eb27765"
      },
      "execution_count": null,
      "outputs": [
        {
          "output_type": "stream",
          "name": "stdout",
          "text": [
            "the function if convex for the variable y\n",
            "the function if convex for the variable x\n",
            "the function if convex for the variable z\n"
          ]
        }
      ]
    },
    {
      "cell_type": "code",
      "source": [
        "GradOf_f = [f.diff(x) for x in X]\n",
        "Grad_f = Matrix(GradOf_f)\n",
        "Grad_f"
      ],
      "metadata": {
        "id": "SjYlJjwaSJka",
        "colab": {
          "base_uri": "https://localhost:8080/",
          "height": 78
        },
        "outputId": "12df0d77-1b56-4805-e51e-88c9870848cf"
      },
      "execution_count": null,
      "outputs": [
        {
          "output_type": "execute_result",
          "data": {
            "text/latex": "$\\displaystyle \\left[\\begin{matrix}4 y - 4\\\\2 x - 4\\\\6 z\\end{matrix}\\right]$",
            "text/plain": [
              "⎡4⋅y - 4⎤\n",
              "⎢       ⎥\n",
              "⎢2⋅x - 4⎥\n",
              "⎢       ⎥\n",
              "⎣  6⋅z  ⎦"
            ]
          },
          "metadata": {},
          "execution_count": 7
        }
      ]
    },
    {
      "cell_type": "code",
      "source": [
        "GradOf_g = [g.diff(x) for x in X]\n",
        "Grad_g = Matrix(GradOf_g)\n",
        "Grad_g"
      ],
      "metadata": {
        "id": "CeSzvyRGSTZe",
        "colab": {
          "base_uri": "https://localhost:8080/",
          "height": 78
        },
        "outputId": "6e69f42a-9756-4bed-cb6f-38cb78daf1bc"
      },
      "execution_count": null,
      "outputs": [
        {
          "output_type": "execute_result",
          "data": {
            "text/latex": "$\\displaystyle \\left[\\begin{matrix}1\\\\1\\\\1\\end{matrix}\\right]$",
            "text/plain": [
              "⎡1⎤\n",
              "⎢ ⎥\n",
              "⎢1⎥\n",
              "⎢ ⎥\n",
              "⎣1⎦"
            ]
          },
          "metadata": {},
          "execution_count": 8
        }
      ]
    },
    {
      "cell_type": "code",
      "source": [
        "H = hessian(f, list(X))\n",
        "H"
      ],
      "metadata": {
        "id": "1sEOnjdiSgg7",
        "colab": {
          "base_uri": "https://localhost:8080/",
          "height": 78
        },
        "outputId": "9bf4c029-cef4-4636-e505-1599fe2529b7"
      },
      "execution_count": null,
      "outputs": [
        {
          "output_type": "execute_result",
          "data": {
            "text/latex": "$\\displaystyle \\left[\\begin{matrix}4 & 0 & 0\\\\0 & 2 & 0\\\\0 & 0 & 6\\end{matrix}\\right]$",
            "text/plain": [
              "⎡4  0  0⎤\n",
              "⎢       ⎥\n",
              "⎢0  2  0⎥\n",
              "⎢       ⎥\n",
              "⎣0  0  6⎦"
            ]
          },
          "metadata": {},
          "execution_count": 9
        }
      ]
    },
    {
      "cell_type": "code",
      "source": [
        "eigenvalues = H.eigenvals()\n",
        "eigenvalues"
      ],
      "metadata": {
        "id": "njc9iQ9ESl6I",
        "colab": {
          "base_uri": "https://localhost:8080/",
          "height": 37
        },
        "outputId": "c7346bf9-84b2-4c05-8181-a4284db31518"
      },
      "execution_count": null,
      "outputs": [
        {
          "output_type": "execute_result",
          "data": {
            "image/png": "[encoded data removed]",
            "text/latex": "$\\displaystyle \\left\\{ 2 : 1, \\  4 : 1, \\  6 : 1\\right\\}$",
            "text/plain": [
              "{2: 1, 4: 1, 6: 1}"
            ]
          },
          "metadata": {},
          "execution_count": 10
        }
      ]
    },
    {
      "cell_type": "code",
      "source": [
        "alpha = min(eigenvalues)\n",
        "alpha"
      ],
      "metadata": {
        "id": "XlNKRbyY4BtZ",
        "colab": {
          "base_uri": "https://localhost:8080/",
          "height": 37
        },
        "outputId": "3f1b5779-521e-4aef-cc77-8bc950313b53"
      },
      "execution_count": null,
      "outputs": [
        {
          "output_type": "execute_result",
          "data": {
            "image/png": "[encoded data removed]",
            "text/latex": "$\\displaystyle 2$",
            "text/plain": [
              "2"
            ]
          },
          "metadata": {},
          "execution_count": 11
        }
      ]
    },
    {
      "cell_type": "code",
      "source": [
        "if alpha > 0:\n",
        "  print(\"the function is α-convex with α =\", alpha)\n",
        "  print(alpha,\"-convexity implies strict convexity\")\n",
        "else:\n",
        "  print(\"the function is not α-convex with α =\", alpha) \n"
      ],
      "metadata": {
        "id": "MubjjXQOCtrI",
        "colab": {
          "base_uri": "https://localhost:8080/"
        },
        "outputId": "6f6751a0-a3a2-4833-a2ec-ae08a4c8127f"
      },
      "execution_count": null,
      "outputs": [
        {
          "output_type": "stream",
          "name": "stdout",
          "text": [
            "the function is α-convex with α = 2\n",
            "2 -convexity implies strict convexity\n"
          ]
        }
      ]
    },
    {
      "cell_type": "markdown",
      "source": [
        "#3. Justify the existence and uniqueness of the solution of $(P)$."
      ],
      "metadata": {
        "id": "U0bs2jIYwqI8"
      }
    },
    {
      "cell_type": "markdown",
      "source": [
        "**Existence of a minimum**\n",
        "1. ✔️$K$ is non empty $\\quad \\Rightarrow$ trivial $(0,0,0)$ belongs to $K$\n",
        "1. ✔️$K$ closed $\\quad \\Rightarrow$ already proven ($K$ is **closed** for any continuous $g$)\n",
        "1. ✔️$f$ is continous\n",
        "1. ❌$K$ is bounded\n",
        "> if $K$ not bounded, is $f$ $∞$ at infinity? (i.e when $\\|X\\| → \\infty$ does $\\|f(X)\\| → \\infty$ ?)\n",
        ">>easy to demonstrate that at some point $\\|f(X)\\|^2>\\|X\\|^2$"
      ],
      "metadata": {
        "id": "8SU77D2xwxNh"
      }
    },
    {
      "cell_type": "markdown",
      "source": [
        "**Uniqueness of a minimum**\n",
        "1. ✔️$f$ is strictly convex\n",
        "1. ✔️$K$ is convex"
      ],
      "metadata": {
        "id": "BNFd8jPZ7Spn"
      }
    },
    {
      "cell_type": "markdown",
      "source": [
        "## 4. Apply the Kuhn-Tucker theorem : are the hypotheses verified ? write the KuhnTucker relations.\n"
      ],
      "metadata": {
        "id": "qbLUr8noTKG6"
      }
    },
    {
      "cell_type": "markdown",
      "source": [
        "**hypotheses**\n",
        "1. ✔️$f$ and $g$ convex $\\Rightarrow$ $f$ is 2-convex and $g$ is linear\n",
        "1. ✔️differentiable on $K$ $\\Rightarrow$ polynoms are differentiable\n",
        "\n",
        "$f' + λ.g' = 0$\n",
        "\n",
        "$λ.g = 0$\n",
        "\n",
        "$λ\\geq0$\n",
        "\n",
        "$g \\leq 0$ \n"
      ],
      "metadata": {
        "id": "NTewV1HZ8ijo"
      }
    },
    {
      "cell_type": "code",
      "source": [
        "lam = symbols('λ', real = True)\n",
        "L = f + lam* g\n",
        "L"
      ],
      "metadata": {
        "id": "AN29fjrbTBDR",
        "colab": {
          "base_uri": "https://localhost:8080/",
          "height": 38
        },
        "outputId": "e44a156a-061d-48b9-f172-d5ef8885f2b7"
      },
      "execution_count": null,
      "outputs": [
        {
          "output_type": "execute_result",
          "data": {
            "image/png": "[encoded data removed]",
            "text/latex": "$\\displaystyle x^{2} - 4 x + 2 y^{2} - 4 y + 3 z^{2} + λ \\left(x + y + z - 3\\right)$",
            "text/plain": [
              " 2            2            2                    \n",
              "x  - 4⋅x + 2⋅y  - 4⋅y + 3⋅z  + λ⋅(x + y + z - 3)"
            ]
          },
          "metadata": {},
          "execution_count": 13
        }
      ]
    },
    {
      "cell_type": "code",
      "source": [
        "XLamb = L.free_symbols\n",
        "XLamb"
      ],
      "metadata": {
        "id": "9GVfseHgWsaz",
        "colab": {
          "base_uri": "https://localhost:8080/",
          "height": 37
        },
        "outputId": "30353ac0-6929-42e4-c874-c9a1d884ac0f"
      },
      "execution_count": null,
      "outputs": [
        {
          "output_type": "execute_result",
          "data": {
            "image/png": "[encoded data removed]",
            "text/latex": "$\\displaystyle \\left\\{x, y, z, λ\\right\\}$",
            "text/plain": [
              "{x, y, z, λ}"
            ]
          },
          "metadata": {},
          "execution_count": 14
        }
      ]
    },
    {
      "cell_type": "code",
      "source": [
        "gradL = [diff(L,x) for x in XLamb] # gradient of Lagrangian w.r.t. (x,y,z, etc.)\n",
        "Matrix(gradL)"
      ],
      "metadata": {
        "id": "ZHCsR1hFTgcK",
        "colab": {
          "base_uri": "https://localhost:8080/",
          "height": 98
        },
        "outputId": "4f966b82-ba65-42d9-bd6d-c3166a66d856"
      },
      "execution_count": null,
      "outputs": [
        {
          "output_type": "execute_result",
          "data": {
            "text/latex": "$\\displaystyle \\left[\\begin{matrix}x + y + z - 3\\\\2 x + λ - 4\\\\4 y + λ - 4\\\\6 z + λ\\end{matrix}\\right]$",
            "text/plain": [
              "⎡x + y + z - 3⎤\n",
              "⎢             ⎥\n",
              "⎢ 2⋅x + λ - 4 ⎥\n",
              "⎢             ⎥\n",
              "⎢ 4⋅y + λ - 4 ⎥\n",
              "⎢             ⎥\n",
              "⎣   6⋅z + λ   ⎦"
            ]
          },
          "metadata": {},
          "execution_count": 15
        }
      ]
    },
    {
      "cell_type": "code",
      "source": [
        "stationary_points=solve(gradL)\n",
        "stationary_points"
      ],
      "metadata": {
        "id": "fLQpK-GCYTFV",
        "colab": {
          "base_uri": "https://localhost:8080/",
          "height": 38
        },
        "outputId": "97d1bbe6-2bac-41c1-8125-3c826256fd18"
      },
      "execution_count": null,
      "outputs": [
        {
          "output_type": "execute_result",
          "data": {
            "image/png": "[encoded data removed]",
            "text/latex": "$\\displaystyle \\left\\{ x : 2, \\  y : 1, \\  z : 0, \\  λ : 0\\right\\}$",
            "text/plain": [
              "{x: 2, y: 1, z: 0, λ: 0}"
            ]
          },
          "metadata": {},
          "execution_count": 16
        }
      ]
    },
    {
      "cell_type": "code",
      "source": [
        "Min_f = f.subs(stationary_points)\n",
        "print(\"the minimal value of the function f on K is \", Min_f)"
      ],
      "metadata": {
        "id": "xOyEUd2AYZvm",
        "colab": {
          "base_uri": "https://localhost:8080/"
        },
        "outputId": "9d2bd287-8aec-4ff5-bca7-41e7aec53a34"
      },
      "execution_count": null,
      "outputs": [
        {
          "output_type": "stream",
          "name": "stdout",
          "text": [
            "the minimal value of the function f on K is  -6\n"
          ]
        }
      ]
    },
    {
      "cell_type": "markdown",
      "source": [
        "We have proved before that there exists only a minimum, "
      ],
      "metadata": {
        "id": "VqYa-7TWGn4n"
      }
    },
    {
      "cell_type": "markdown",
      "source": [
        "*Alternate solution with the matrix*\n"
      ],
      "metadata": {
        "id": "q9CP_LQBE6Ma"
      }
    },
    {
      "cell_type": "code",
      "source": [
        "C = Matrix([[0,4,0,1], [0,0,6,1],[1,1,1,0],[2,0,0,1]])\n",
        "D = Matrix([4,0,3,4])\n",
        "C, D"
      ],
      "metadata": {
        "id": "Q9AQvB_sE_PE",
        "colab": {
          "base_uri": "https://localhost:8080/",
          "height": 98
        },
        "outputId": "fdb0176b-58b8-456a-bf1a-9d51fb72dee2"
      },
      "execution_count": null,
      "outputs": [
        {
          "output_type": "execute_result",
          "data": {
            "text/latex": "$\\displaystyle \\left( \\left[\\begin{matrix}0 & 4 & 0 & 1\\\\0 & 0 & 6 & 1\\\\1 & 1 & 1 & 0\\\\2 & 0 & 0 & 1\\end{matrix}\\right], \\  \\left[\\begin{matrix}4\\\\0\\\\3\\\\4\\end{matrix}\\right]\\right)$",
            "text/plain": [
              "⎛⎡0  4  0  1⎤  ⎡4⎤⎞\n",
              "⎜⎢          ⎥  ⎢ ⎥⎟\n",
              "⎜⎢0  0  6  1⎥  ⎢0⎥⎟\n",
              "⎜⎢          ⎥, ⎢ ⎥⎟\n",
              "⎜⎢1  1  1  0⎥  ⎢3⎥⎟\n",
              "⎜⎢          ⎥  ⎢ ⎥⎟\n",
              "⎝⎣2  0  0  1⎦  ⎣4⎦⎠"
            ]
          },
          "metadata": {},
          "execution_count": 18
        }
      ]
    },
    {
      "cell_type": "code",
      "source": [
        "C.inv()*D"
      ],
      "metadata": {
        "id": "MIiMr1ylFzIw",
        "colab": {
          "base_uri": "https://localhost:8080/",
          "height": 98
        },
        "outputId": "f0736247-fcd6-4cf0-9874-0d379d285f24"
      },
      "execution_count": null,
      "outputs": [
        {
          "output_type": "execute_result",
          "data": {
            "text/latex": "$\\displaystyle \\left[\\begin{matrix}2\\\\1\\\\0\\\\0\\end{matrix}\\right]$",
            "text/plain": [
              "⎡2⎤\n",
              "⎢ ⎥\n",
              "⎢1⎥\n",
              "⎢ ⎥\n",
              "⎢0⎥\n",
              "⎢ ⎥\n",
              "⎣0⎦"
            ]
          },
          "metadata": {},
          "execution_count": 19
        }
      ]
    }
  ]
}