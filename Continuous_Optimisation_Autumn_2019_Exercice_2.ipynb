{
  "nbformat": 4,
  "nbformat_minor": 0,
  "metadata": {
    "colab": {
      "name": "Continuous Optimisation Autumn 2019 Exercice 2.ipynb",
      "provenance": [],
      "collapsed_sections": [],
      "authorship_tag": "ABX9TyPH6JpFMzeFp4Nx9hhf0sOc",
      "include_colab_link": true
    },
    "kernelspec": {
      "name": "python3",
      "display_name": "Python 3"
    },
    "language_info": {
      "name": "python"
    }
  },
  "cells": [
    {
      "cell_type": "markdown",
      "metadata": {
        "id": "view-in-github",
        "colab_type": "text"
      },
      "source": [
        "<a href=\"https://colab.research.google.com/github/famibelle/Data-Science-Tech-Institute/blob/main/Continuous_Optimisation_Autumn_2019_Exercice_2.ipynb\" target=\"_parent\"><img src=\"https://colab.research.google.com/assets/colab-badge.svg\" alt=\"Open In Colab\"/></a>"
      ]
    },
    {
      "cell_type": "markdown",
      "source": [
        "#**Continuous Optimisation Exam Autumn 2019**\n",
        "\n"
      ],
      "metadata": {
        "id": "z9fuDDLpIr2G"
      }
    },
    {
      "cell_type": "markdown",
      "source": [
        "# Exercise 2"
      ],
      "metadata": {
        "id": "h_HYqA1Pulgp"
      }
    },
    {
      "cell_type": "markdown",
      "source": [
        "##One considers on $\\mathbb{R}^2$ the following minimisation problem : $min f(x,y) = x^3+y^2$ under the constraints $g(x,y) = 0$ and $g(x,y) = x^2+y^2-9$ "
      ],
      "metadata": {
        "id": "gA-izgkT24GZ"
      }
    },
    {
      "cell_type": "code",
      "execution_count": null,
      "metadata": {
        "id": "3DxCTbOsaUYH"
      },
      "outputs": [],
      "source": [
        "from sympy import *\n",
        "from sympy.abc import x, y, z\n",
        "\n",
        "init_printing()"
      ]
    },
    {
      "cell_type": "code",
      "source": [
        "f = x**3+y**2\n",
        "g = x**2+y**2-9\n",
        "\n",
        "X = f.free_symbols"
      ],
      "metadata": {
        "id": "WhgGUpe0adM4"
      },
      "execution_count": null,
      "outputs": []
    },
    {
      "cell_type": "code",
      "source": [
        "f"
      ],
      "metadata": {
        "id": "iYmaLfDnas0z",
        "outputId": "6e67556a-34e8-40c3-ccbf-9344b91ee148",
        "colab": {
          "base_uri": "https://localhost:8080/",
          "height": 39
        }
      },
      "execution_count": null,
      "outputs": [
        {
          "output_type": "execute_result",
          "data": {
            "image/png": "[encoded data removed]",
            "text/latex": "$\\displaystyle x^{3} + y^{2}$",
            "text/plain": [
              " 3    2\n",
              "x  + y "
            ]
          },
          "metadata": {},
          "execution_count": 4
        }
      ]
    },
    {
      "cell_type": "code",
      "source": [
        "g"
      ],
      "metadata": {
        "id": "qM2eBsryat64",
        "outputId": "91675674-9ba8-4051-9a47-e834397a9288",
        "colab": {
          "base_uri": "https://localhost:8080/",
          "height": 39
        }
      },
      "execution_count": null,
      "outputs": [
        {
          "output_type": "execute_result",
          "data": {
            "image/png": "[encoded data removed]",
            "text/latex": "$\\displaystyle x^{2} + y^{2} - 9$",
            "text/plain": [
              " 2    2    \n",
              "x  + y  - 9"
            ]
          },
          "metadata": {},
          "execution_count": 5
        }
      ]
    },
    {
      "cell_type": "markdown",
      "source": [
        "## 1. Study the regularity of the constraint."
      ],
      "metadata": {
        "id": "i43H1z0VxcXP"
      }
    },
    {
      "cell_type": "markdown",
      "source": [
        "##2. Solve the problem with the help of a Lagrange multiplier (verify the hypotheses of the theorem, write the equations for the optimum point and the Lagrange multiplier . . .)"
      ],
      "metadata": {
        "id": "bA1waYDEJuys"
      }
    },
    {
      "cell_type": "code",
      "source": [
        "GradOf_f = [f.diff(x) for x in X]\n",
        "Grad_f = Matrix(GradOf_f)\n",
        "Grad_f"
      ],
      "metadata": {
        "id": "CwId3xDia1t9",
        "outputId": "9635bbfc-3f19-4139-9ebd-318087e07d07",
        "colab": {
          "base_uri": "https://localhost:8080/",
          "height": 58
        }
      },
      "execution_count": null,
      "outputs": [
        {
          "output_type": "execute_result",
          "data": {
            "text/latex": "$\\displaystyle \\left[\\begin{matrix}3 x^{2}\\\\2 y\\end{matrix}\\right]$",
            "text/plain": [
              "⎡   2⎤\n",
              "⎢3⋅x ⎥\n",
              "⎢    ⎥\n",
              "⎣2⋅y ⎦"
            ]
          },
          "metadata": {},
          "execution_count": 6
        }
      ]
    },
    {
      "cell_type": "code",
      "source": [
        "GradOf_g = [g.diff(x) for x in X]\n",
        "Grad_g = Matrix(GradOf_g)\n",
        "Grad_g"
      ],
      "metadata": {
        "id": "pwFpkqWme0xA",
        "outputId": "fe200a4a-0f85-440b-bc24-6f5bbe1c3d1f",
        "colab": {
          "base_uri": "https://localhost:8080/",
          "height": 58
        }
      },
      "execution_count": null,
      "outputs": [
        {
          "output_type": "execute_result",
          "data": {
            "text/latex": "$\\displaystyle \\left[\\begin{matrix}2 x\\\\2 y\\end{matrix}\\right]$",
            "text/plain": [
              "⎡2⋅x⎤\n",
              "⎢   ⎥\n",
              "⎣2⋅y⎦"
            ]
          },
          "metadata": {},
          "execution_count": 7
        }
      ]
    },
    {
      "cell_type": "code",
      "source": [
        "lam = symbols('λ', real = True)\n",
        "L = f + lam* g\n",
        "L"
      ],
      "metadata": {
        "id": "ADeTDErWa9E8",
        "outputId": "28e317e5-7309-42ed-db07-18a326156316",
        "colab": {
          "base_uri": "https://localhost:8080/",
          "height": 39
        }
      },
      "execution_count": null,
      "outputs": [
        {
          "output_type": "execute_result",
          "data": {
            "image/png": "[encoded data removed]",
            "text/latex": "$\\displaystyle x^{3} + y^{2} + λ \\left(x^{2} + y^{2} - 9\\right)$",
            "text/plain": [
              " 3    2     ⎛ 2    2    ⎞\n",
              "x  + y  + λ⋅⎝x  + y  - 9⎠"
            ]
          },
          "metadata": {},
          "execution_count": 8
        }
      ]
    },
    {
      "cell_type": "markdown",
      "source": [
        "if $f$ is differentiable, if the minimum exists, if the constraints are regular at the minimum, then:\n",
        "\\begin{align}\n",
        "\\mathcal{L}(x,y,z,\\lambda_{1}, \\lambda_{2}) = f(x,y,z) + \\lambda_{1} \\: g_{1}(x,y,z) + \\lambda_{2} \\: g_{2}(x,y,z)\n",
        "\\end{align}\n",
        "\\begin{align}\n",
        "\\nabla \\mathcal{L} = \\nabla f + \\lambda \\nabla g = 0\n",
        "\\end{align}"
      ],
      "metadata": {
        "id": "mJEIjexYz6MM"
      }
    },
    {
      "cell_type": "code",
      "source": [
        "XLamb = L.free_symbols\n",
        "XLamb"
      ],
      "metadata": {
        "id": "lYW6TanQbGKz",
        "outputId": "8cd3f6e2-cec7-4fb1-be91-a09c66816040",
        "colab": {
          "base_uri": "https://localhost:8080/",
          "height": 39
        }
      },
      "execution_count": null,
      "outputs": [
        {
          "output_type": "execute_result",
          "data": {
            "image/png": "[encoded data removed]",
            "text/latex": "$\\displaystyle \\left\\{x, y, λ\\right\\}$",
            "text/plain": [
              "{x, y, λ}"
            ]
          },
          "metadata": {},
          "execution_count": 9
        }
      ]
    },
    {
      "cell_type": "markdown",
      "source": [
        "## 2. Write the equations for the optimum point and the Lagrange multipliers."
      ],
      "metadata": {
        "id": "7PT4E18Hwkxv"
      }
    },
    {
      "cell_type": "code",
      "source": [
        "gradL = [diff(L,x) for x in XLamb] # gradient of Lagrangian w.r.t. (x,y,z, etc.)\n",
        "Matrix(gradL)"
      ],
      "metadata": {
        "id": "VYweKr6hbJBB",
        "outputId": "9b216bec-7fc8-4498-f8d4-f15bac5d341b",
        "colab": {
          "base_uri": "https://localhost:8080/",
          "height": 78
        }
      },
      "execution_count": null,
      "outputs": [
        {
          "output_type": "execute_result",
          "data": {
            "text/latex": "$\\displaystyle \\left[\\begin{matrix}3 x^{2} + 2 x λ\\\\x^{2} + y^{2} - 9\\\\2 y λ + 2 y\\end{matrix}\\right]$",
            "text/plain": [
              "⎡   2        ⎤\n",
              "⎢3⋅x  + 2⋅x⋅λ⎥\n",
              "⎢            ⎥\n",
              "⎢ 2    2     ⎥\n",
              "⎢x  + y  - 9 ⎥\n",
              "⎢            ⎥\n",
              "⎣2⋅y⋅λ + 2⋅y ⎦"
            ]
          },
          "metadata": {},
          "execution_count": 10
        }
      ]
    },
    {
      "cell_type": "markdown",
      "source": [
        "##3. Determine then the candidate points for being the minimum and deduce the solution of the problem (by giving the point where the minimum is reached and the minimal value of the cost-function)."
      ],
      "metadata": {
        "id": "fyrAw9F_xPUU"
      }
    },
    {
      "cell_type": "code",
      "source": [
        "optimum_points = solve(gradL)\n",
        "optimum_points"
      ],
      "metadata": {
        "id": "Tg-h4ZK1bQUa",
        "outputId": "1e9df6fe-ff72-45c3-e9e3-8a6a8d09da68",
        "colab": {
          "base_uri": "https://localhost:8080/",
          "height": 68
        }
      },
      "execution_count": null,
      "outputs": [
        {
          "output_type": "execute_result",
          "data": {
            "image/png": "[encoded data removed]",
            "text/latex": "$\\displaystyle \\left[ \\left\\{ x : -3, \\  y : 0, \\  λ : \\frac{9}{2}\\right\\}, \\  \\left\\{ x : 0, \\  y : -3, \\  λ : -1\\right\\}, \\  \\left\\{ x : 0, \\  y : 3, \\  λ : -1\\right\\}, \\  \\left\\{ x : \\frac{2}{3}, \\  y : - \\frac{\\sqrt{77}}{3}, \\  λ : -1\\right\\}, \\  \\left\\{ x : \\frac{2}{3}, \\  y : \\frac{\\sqrt{77}}{3}, \\  λ : -1\\right\\}, \\  \\left\\{ x : 3, \\  y : 0, \\  λ : - \\frac{9}{2}\\right\\}\\right]$",
            "text/plain": [
              "⎡                                                                  ⎧          \n",
              "⎢{x: -3, y: 0, λ: 9/2}, {x: 0, y: -3, λ: -1}, {x: 0, y: 3, λ: -1}, ⎨x: 2/3, y:\n",
              "⎣                                                                  ⎩          \n",
              "\n",
              " -√77        ⎫  ⎧           √77       ⎫                       ⎤\n",
              " ─────, λ: -1⎬, ⎨x: 2/3, y: ───, λ: -1⎬, {x: 3, y: 0, λ: -9/2}⎥\n",
              "   3         ⎭  ⎩            3        ⎭                       ⎦"
            ]
          },
          "metadata": {},
          "execution_count": 11
        }
      ]
    },
    {
      "cell_type": "code",
      "source": [
        "n = len(optimum_points)\n",
        "for i in range(n):\n",
        "  print(\"at the candidate points for being a minimum \", optimum_points[i], \"the minimal value of the cost-function is\", f.subs(optimum_points[i]))"
      ],
      "metadata": {
        "colab": {
          "base_uri": "https://localhost:8080/"
        },
        "id": "aZv7BagabcyN",
        "outputId": "82bdcd6f-0265-496f-ec66-1ceb6f8aea87"
      },
      "execution_count": null,
      "outputs": [
        {
          "output_type": "stream",
          "name": "stdout",
          "text": [
            "at the candidate points for being a minimum  {x: -3, y: 0, λ: 9/2} the minimal value of the cost-function is -27\n",
            "at the candidate points for being a minimum  {x: 0, y: -3, λ: -1} the minimal value of the cost-function is 9\n",
            "at the candidate points for being a minimum  {x: 0, y: 3, λ: -1} the minimal value of the cost-function is 9\n",
            "at the candidate points for being a minimum  {x: 2/3, y: -sqrt(77)/3, λ: -1} the minimal value of the cost-function is 239/27\n",
            "at the candidate points for being a minimum  {x: 2/3, y: sqrt(77)/3, λ: -1} the minimal value of the cost-function is 239/27\n",
            "at the candidate points for being a minimum  {x: 3, y: 0, λ: -9/2} the minimal value of the cost-function is 27\n"
          ]
        }
      ]
    }
  ]
}